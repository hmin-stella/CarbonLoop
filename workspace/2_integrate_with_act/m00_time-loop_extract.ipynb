{
 "cells": [
  {
   "cell_type": "code",
   "execution_count": 1,
   "id": "5176cc76-37bd-485f-a25f-7b3174c09c90",
   "metadata": {},
   "outputs": [],
   "source": [
    "import re\n",
    "import yaml\n",
    "import os\n",
    "\n",
    "def extract_dram_utilized_capacity(file_path):\n",
    "    with open(file_path, 'r') as f:\n",
    "        lines = f.readlines()\n",
    "    in_dram = False\n",
    "    current_section = None\n",
    "    intput = 0\n",
    "    output = 0\n",
    "    weight = 0\n",
    "    \n",
    "    for line in lines:\n",
    "        line = line.strip()\n",
    "\n",
    "        # Detect the start of DRAM level\n",
    "        if line.startswith(\"=== DRAM ===\"):\n",
    "            in_dram = True\n",
    "            continue\n",
    "\n",
    "        # Exit DRAM parsing if another level starts\n",
    "        if in_dram and line.startswith(\"===\") and not line.startswith(\"=== DRAM ===\"):\n",
    "            break\n",
    "\n",
    "        # Identify current section\n",
    "        if line.startswith(\"Inputs:\"):\n",
    "            current_section = 'input'\n",
    "        elif line.startswith(\"Outputs:\"):\n",
    "            current_section = 'output'\n",
    "        elif line.startswith(\"Weights:\"):\n",
    "            current_section = 'weight'\n",
    "\n",
    "        # Extract Utilized capacity\n",
    "        if in_dram and \"Utilized capacity\" in line:\n",
    "            match = re.search(r'Utilized capacity\\s+:\\s+([0-9.]+)', line)\n",
    "            if match and current_section:\n",
    "                value = float(match.group(1))\n",
    "                if current_section == 'input':\n",
    "                    intput = value\n",
    "                elif current_section == 'output':\n",
    "                    output = value\n",
    "                elif current_section == 'weight':\n",
    "                    weight = value\n",
    "                \n",
    "    return [intput, output, weight]"
   ]
  },
  {
   "cell_type": "code",
   "execution_count": 2,
   "id": "608e3eab-41c7-4e33-b0f5-ea0d5ee8038c",
   "metadata": {},
   "outputs": [],
   "source": [
    "def extract_total_chip_area(file_path):\n",
    "    with open(file_path, 'r') as f:\n",
    "        lines = f.readlines()\n",
    "    total_area = 0.0\n",
    "    for line in lines:\n",
    "        line = line.strip()\n",
    "        if line.startswith(\"Area\") and \"um^2\" in line:\n",
    "            match = re.search(r'Area\\s+\\(total\\)?\\s*:\\s*([0-9.]+)', line)\n",
    "            if not match:\n",
    "                match = re.search(r'Area\\s*:\\s*([0-9.]+)', line)\n",
    "            if match:\n",
    "                total_area += float(match.group(1))\n",
    "    return total_area"
   ]
  },
  {
   "cell_type": "code",
   "execution_count": 3,
   "id": "606e4d95-71fb-4e06-aabd-86e87967365c",
   "metadata": {},
   "outputs": [],
   "source": [
    "def extract_total_energy(file_path):\n",
    "    with open(file_path, 'r') as f:\n",
    "        lines = f.readlines()\n",
    "    for line in lines:\n",
    "        line = line.strip()\n",
    "        if line.startswith(\"Energy:\") and \"uJ\" in line:\n",
    "            match = re.search(r'Energy:\\s+([0-9.]+)\\s*uJ', line)\n",
    "            if match:\n",
    "                return float(match.group(1))\n",
    "    return None"
   ]
  },
  {
   "cell_type": "code",
   "execution_count": 4,
   "id": "9ff54743-754d-445e-935e-517a9c2c9310",
   "metadata": {},
   "outputs": [],
   "source": [
    "def extract_total_cycles(file_path):\n",
    "    with open(file_path, 'r') as f:\n",
    "        for line in f:\n",
    "            line = line.strip()\n",
    "            if line.startswith(\"Cycles:\"):\n",
    "                match = re.search(r\"Cycles:\\s+([0-9]+)\", line)\n",
    "                if match:\n",
    "                    return int(match.group(1))\n",
    "    return None"
   ]
  },
  {
   "cell_type": "code",
   "execution_count": 5,
   "id": "1ee4eaa6-6184-42bf-b995-c04f36f085f7",
   "metadata": {},
   "outputs": [],
   "source": [
    "def search_directories(path):\n",
    "    directories = []\n",
    "    for dirpath, dirnames, filenames in os.walk(path):\n",
    "        directories.append(dirpath)\n",
    "    return directories"
   ]
  },
  {
   "cell_type": "code",
   "execution_count": 6,
   "id": "7f6994ee-d7a4-419f-8812-fadf15f65a2b",
   "metadata": {},
   "outputs": [],
   "source": [
    "def save_to_yaml(output_path, dram_caps, area, energy, cycles):\n",
    "    result = {\n",
    "        'dram_utilized_capacity': dram_caps,\n",
    "        'total_chip_area_um2': area,\n",
    "        'total_energy_uJ': energy,\n",
    "        'total_cycles': cycles\n",
    "    }\n",
    "\n",
    "    with open(output_path, 'w') as yaml_file:\n",
    "        yaml.dump(result, yaml_file, default_flow_style=False)"
   ]
  },
  {
   "cell_type": "code",
   "execution_count": 7,
   "id": "b67a4052-7906-4135-9b94-a9a9db578ad7",
   "metadata": {},
   "outputs": [
    {
     "name": "stdout",
     "output_type": "stream",
     "text": [
      "DRAM Specifications:\n",
      "Total Capacity  : 368547072.0 Byte\n",
      "Total Chip Area : 238279.12 um^2\n",
      "Total Energy    : 291592.94 uJ\n",
      "Total Cycles    : 2754609152 cycles\n",
      "\n",
      "YAML saved to: timeloop_summary.yaml\n"
     ]
    }
   ],
   "source": [
    "if __name__ == '__main__':\n",
    "    tl_output_path = '/home/workspace/1_run_timeloop/outputs/'\n",
    "    tl_file_name = 'timeloop-mapper.stats.txt'\n",
    "    output_yaml = 'timeloop_summary.yaml'\n",
    "    \n",
    "    layer_dirs = search_directories(tl_output_path)\n",
    "    dram_weight_caps = []\n",
    "    energy = []\n",
    "    cycles = []\n",
    "    dram_inout_max = 0\n",
    "    chip_area_max = 0\n",
    "    \n",
    "    for layer_dir in layer_dirs:\n",
    "        if 'eyeriss_like' in layer_dir.split('/')[-1]:\n",
    "            file_path = os.path.join(layer_dir, tl_file_name)\n",
    "            \n",
    "            dram_caps = extract_dram_utilized_capacity(file_path)\n",
    "            if (dram_caps[0]+dram_caps[1]) > dram_inout_max:\n",
    "                dram_inout_max = dram_caps[0]+dram_caps[1]\n",
    "            dram_weight_caps.append(dram_caps[2])\n",
    "            \n",
    "            chip_area = extract_total_chip_area(file_path)\n",
    "            if chip_area > chip_area_max:\n",
    "                chip_area_max = chip_area\n",
    "                \n",
    "            energy.append(extract_total_energy(file_path))\n",
    "            cycles.append(extract_total_cycles(file_path))\n",
    "    \n",
    "    total_dram_caps = dram_inout_max + sum(dram_weight_caps)\n",
    "    total_chip_area = chip_area_max\n",
    "    total_energy = sum(energy)\n",
    "    total_cycles = sum(cycles)\n",
    "\n",
    "    \n",
    "    print(\"DRAM Specifications:\")\n",
    "    print(f\"Total Capacity  : {total_dram_caps} Byte\")\n",
    "    print(f\"Total Chip Area : {total_chip_area:.2f} um^2\")\n",
    "    print(f\"Total Energy    : {total_energy:.2f} uJ\")\n",
    "    print(f\"Total Cycles    : {total_cycles} cycles\")\n",
    "\n",
    "    save_to_yaml(output_yaml, total_dram_caps, total_chip_area, total_energy, total_cycles)\n",
    "    print(f\"\\nYAML saved to: {output_yaml}\")"
   ]
  }
 ],
 "metadata": {
  "kernelspec": {
   "display_name": "Python 3 (ipykernel)",
   "language": "python",
   "name": "python3"
  },
  "language_info": {
   "codemirror_mode": {
    "name": "ipython",
    "version": 3
   },
   "file_extension": ".py",
   "mimetype": "text/x-python",
   "name": "python",
   "nbconvert_exporter": "python",
   "pygments_lexer": "ipython3",
   "version": "3.10.12"
  }
 },
 "nbformat": 4,
 "nbformat_minor": 5
}

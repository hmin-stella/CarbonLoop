{
 "cells": [
  {
   "cell_type": "code",
   "execution_count": 1,
   "id": "5176cc76-37bd-485f-a25f-7b3174c09c90",
   "metadata": {},
   "outputs": [],
   "source": [
    "import re\n",
    "\n",
    "def extract_dram_utilized_capacity(file_path):\n",
    "    with open(file_path, 'r') as f:\n",
    "        lines = f.readlines()\n",
    "    in_dram = False\n",
    "    current_section = None\n",
    "    capacities = {\n",
    "        'input': 0,\n",
    "        'output': 0,\n",
    "        'weight': 0\n",
    "    }\n",
    "    \n",
    "    for line in lines:\n",
    "        line = line.strip()\n",
    "\n",
    "        # Detect the start of DRAM level\n",
    "        if line.startswith(\"=== DRAM ===\"):\n",
    "            in_dram = True\n",
    "            continue\n",
    "\n",
    "        # Exit DRAM parsing if another level starts\n",
    "        if in_dram and line.startswith(\"===\") and not line.startswith(\"=== DRAM ===\"):\n",
    "            break\n",
    "\n",
    "        # Identify current section\n",
    "        if line.startswith(\"Inputs:\"):\n",
    "            current_section = 'input'\n",
    "        elif line.startswith(\"Outputs:\"):\n",
    "            current_section = 'output'\n",
    "        elif line.startswith(\"Weights:\"):\n",
    "            current_section = 'weight'\n",
    "\n",
    "        # Extract Utilized capacity\n",
    "        if in_dram and \"Utilized capacity\" in line:\n",
    "            match = re.search(r'Utilized capacity\\s+:\\s+([0-9.]+)', line)\n",
    "            if match and current_section:\n",
    "                value = float(match.group(1))\n",
    "                capacities[current_section] = value\n",
    "    return capacities"
   ]
  },
  {
   "cell_type": "code",
   "execution_count": 2,
   "id": "608e3eab-41c7-4e33-b0f5-ea0d5ee8038c",
   "metadata": {},
   "outputs": [],
   "source": [
    "def extract_total_chip_area(file_path):\n",
    "    with open(file_path, 'r') as f:\n",
    "        lines = f.readlines()\n",
    "    total_area = 0.0\n",
    "    for line in lines:\n",
    "        line = line.strip()\n",
    "        if line.startswith(\"Area\") and \"um^2\" in line:\n",
    "            match = re.search(r'Area\\s+\\(total\\)?\\s*:\\s*([0-9.]+)', line)\n",
    "            if not match:\n",
    "                match = re.search(r'Area\\s*:\\s*([0-9.]+)', line)\n",
    "            if match:\n",
    "                total_area += float(match.group(1))\n",
    "    return total_area"
   ]
  },
  {
   "cell_type": "code",
   "execution_count": 3,
   "id": "606e4d95-71fb-4e06-aabd-86e87967365c",
   "metadata": {},
   "outputs": [],
   "source": [
    "def extract_total_energy(file_path):\n",
    "    with open(file_path, 'r') as f:\n",
    "        lines = f.readlines()\n",
    "    for line in lines:\n",
    "        line = line.strip()\n",
    "        if line.startswith(\"Energy:\") and \"uJ\" in line:\n",
    "            match = re.search(r'Energy:\\s+([0-9.]+)\\s*uJ', line)\n",
    "            if match:\n",
    "                return float(match.group(1))\n",
    "    return None"
   ]
  },
  {
   "cell_type": "code",
   "execution_count": 6,
   "id": "b67a4052-7906-4135-9b94-a9a9db578ad7",
   "metadata": {},
   "outputs": [
    {
     "name": "stdout",
     "output_type": "stream",
     "text": [
      "DRAM Utilized Capacities:\n",
      "  Input Capacity  : 151875.0\n",
      "  Output Capacity : 401408.0\n",
      "  Weight Capacity : 864.0\n",
      "\n",
      "Total Chip Area   : 255599.30 um^2\n",
      "Total Energy      : 59.28 uJ\n",
      "\n",
      "YAML saved to: timeloop_summary.yaml\n"
     ]
    }
   ],
   "source": [
    "def save_to_yaml(output_path, dram_caps, area, energy):\n",
    "    with open(output_path, 'w') as f:\n",
    "        f.write(\"dram_utilized_capacity:\\n\")\n",
    "        f.write(f\"  input: {dram_caps['input']}\\n\")\n",
    "        f.write(f\"  output: {dram_caps['output']}\\n\")\n",
    "        f.write(f\"  weight: {dram_caps['weight']}\\n\")\n",
    "        f.write(f\"total_chip_area_um2: {area}\\n\")\n",
    "        f.write(f\"total_energy_uJ: {energy}\\n\")\n",
    "\n",
    "if __name__ == '__main__':\n",
    "    file_path = 'timeloop-mapper.stats.txt'\n",
    "    output_yaml = 'timeloop_summary.yaml'\n",
    "    dram_caps = extract_dram_utilized_capacity(file_path)\n",
    "    total_chip_area = extract_total_chip_area(file_path)\n",
    "    total_energy = extract_total_energy(file_path)\n",
    "    \n",
    "    print(\"DRAM Utilized Capacities:\")\n",
    "    print(f\"  Input Capacity  : {dram_caps['input']}\")\n",
    "    print(f\"  Output Capacity : {dram_caps['output']}\")\n",
    "    print(f\"  Weight Capacity : {dram_caps['weight']}\")\n",
    "    print(f\"\\nTotal Chip Area   : {total_chip_area:.2f} um^2\")\n",
    "    print(f\"Total Energy      : {total_energy:.2f} uJ\")\n",
    "\n",
    "    save_to_yaml(output_yaml, dram_caps, total_chip_area, total_energy)\n",
    "    print(f\"\\nYAML saved to: {output_yaml}\")"
   ]
  }
 ],
 "metadata": {
  "kernelspec": {
   "display_name": "Python 3 (ipykernel)",
   "language": "python",
   "name": "python3"
  },
  "language_info": {
   "codemirror_mode": {
    "name": "ipython",
    "version": 3
   },
   "file_extension": ".py",
   "mimetype": "text/x-python",
   "name": "python",
   "nbconvert_exporter": "python",
   "pygments_lexer": "ipython3",
   "version": "3.10.12"
  }
 },
 "nbformat": 4,
 "nbformat_minor": 5
}

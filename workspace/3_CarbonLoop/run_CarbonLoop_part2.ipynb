{
 "cells": [
  {
   "cell_type": "markdown",
   "id": "21344ebb-eea2-487e-87a9-5afd993cf9ac",
   "metadata": {},
   "source": [
    "# CarbonLoop Part 2"
   ]
  },
  {
   "cell_type": "markdown",
   "id": "d020e2d7-f4bc-4832-b3d4-4f21647e60f7",
   "metadata": {},
   "source": [
    "### 1. Read Output from Timeloop+Accelergy"
   ]
  },
  {
   "cell_type": "code",
   "execution_count": null,
   "id": "23c6e024-178a-4037-b5e1-1cedc86c6e17",
   "metadata": {},
   "outputs": [],
   "source": [
    "\n",
    "### Extract output from Timeloop+Accelergy ###\n",
    "for arch_name in arch:\n",
    "    tl_output_path = os.path.join(THIS_SCRIPT_DIR, \"outputs\", arch_name)\n",
    "    tl_file_name = 'timeloop-mapper.stats.txt'\n",
    "    output_yaml = os.path.join(tl_output_path, 'timeloop_summary.yaml')\n",
    "    \n",
    "    layer_dirs = search_directories(tl_output_path)\n",
    "    dram_weight_caps = []\n",
    "    energy = []\n",
    "    cycles = []\n",
    "    dram_inout_max = 0\n",
    "    chip_area_max = 0\n",
    "    \n",
    "    for layer_dir in layer_dirs:\n",
    "        if 'eyeriss_like' in layer_dir.split('/')[-1]:\n",
    "            file_path = os.path.join(layer_dir, tl_file_name)\n",
    "            \n",
    "            dram_caps = extract_dram_utilized_capacity(file_path)\n",
    "            if (dram_caps[0]+dram_caps[1]) > dram_inout_max:\n",
    "                dram_inout_max = dram_caps[0]+dram_caps[1]\n",
    "            dram_weight_caps.append(dram_caps[2])\n",
    "            \n",
    "            chip_area = extract_total_chip_area(file_path)\n",
    "            if chip_area > chip_area_max:\n",
    "                chip_area_max = chip_area\n",
    "                \n",
    "            energy.append(extract_total_energy(file_path))\n",
    "            cycles.append(extract_total_cycles(file_path))\n",
    "    \n",
    "    total_cap = dram_inout_max + sum(dram_weight_caps)\n",
    "    total_area = chip_area_max\n",
    "    total_energy = sum(energy)\n",
    "    total_cycles = sum(cycles)\n",
    "\n",
    "    ### Print Timeloop+Accelergy output ###\n",
    "    print()\n",
    "    print(\"DRAM Specifications of %s:\"%(arch_name))\n",
    "    print(\"Total DRAM Capacity (Byte) :\", total_cap)\n",
    "    print(\"Total Chip Area (um^2)     :\", total_area)\n",
    "    print(\"Total Energy (uJ)          :\", total_energy)\n",
    "    print(\"Total Cycles               :\", total_cycles)\n",
    "\n",
    "    ### Write to yaml file ###\n",
    "    save_to_yaml(output_yaml, total_cap, total_area, total_energy, total_cycles)\n",
    "    print(f\"\\nYAML saved to: {output_yaml}\")\n"
   ]
  },
  {
   "cell_type": "code",
   "execution_count": 1,
   "id": "289494c1-ac4f-4a59-bd05-e7e8eecc92e6",
   "metadata": {},
   "outputs": [
    {
     "ename": "FileNotFoundError",
     "evalue": "[Errno 2] No such file or directory: 'outputs/eyeriss_like_pe_1/timeloop_summary.yaml'",
     "output_type": "error",
     "traceback": [
      "\u001b[0;31m---------------------------------------------------------------------------\u001b[0m",
      "\u001b[0;31mFileNotFoundError\u001b[0m                         Traceback (most recent call last)",
      "Cell \u001b[0;32mIn[1], line 18\u001b[0m\n\u001b[1;32m     16\u001b[0m \u001b[38;5;28;01mfor\u001b[39;00m arch_name \u001b[38;5;129;01min\u001b[39;00m arch:\n\u001b[1;32m     17\u001b[0m     yaml_path \u001b[38;5;241m=\u001b[39m \u001b[38;5;124m'\u001b[39m\u001b[38;5;124moutputs/\u001b[39m\u001b[38;5;124m'\u001b[39m\u001b[38;5;241m+\u001b[39march_name\u001b[38;5;241m+\u001b[39m\u001b[38;5;124m'\u001b[39m\u001b[38;5;124m/timeloop_summary.yaml\u001b[39m\u001b[38;5;124m'\u001b[39m\n\u001b[0;32m---> 18\u001b[0m     \u001b[38;5;28;01mwith\u001b[39;00m \u001b[38;5;28;43mopen\u001b[39;49m\u001b[43m(\u001b[49m\u001b[43myaml_path\u001b[49m\u001b[43m,\u001b[49m\u001b[43m \u001b[49m\u001b[38;5;124;43m'\u001b[39;49m\u001b[38;5;124;43mr\u001b[39;49m\u001b[38;5;124;43m'\u001b[39;49m\u001b[43m)\u001b[49m \u001b[38;5;28;01mas\u001b[39;00m f:\n\u001b[1;32m     19\u001b[0m         summary \u001b[38;5;241m=\u001b[39m yaml\u001b[38;5;241m.\u001b[39msafe_load(f)\n\u001b[1;32m     20\u001b[0m     total_cap_list\u001b[38;5;241m.\u001b[39mappend(summary[\u001b[38;5;124m'\u001b[39m\u001b[38;5;124mdram_utilized_capacity\u001b[39m\u001b[38;5;124m'\u001b[39m])\n",
      "File \u001b[0;32m/usr/local/lib/python3.10/dist-packages/IPython/core/interactiveshell.py:324\u001b[0m, in \u001b[0;36m_modified_open\u001b[0;34m(file, *args, **kwargs)\u001b[0m\n\u001b[1;32m    317\u001b[0m \u001b[38;5;28;01mif\u001b[39;00m file \u001b[38;5;129;01min\u001b[39;00m {\u001b[38;5;241m0\u001b[39m, \u001b[38;5;241m1\u001b[39m, \u001b[38;5;241m2\u001b[39m}:\n\u001b[1;32m    318\u001b[0m     \u001b[38;5;28;01mraise\u001b[39;00m \u001b[38;5;167;01mValueError\u001b[39;00m(\n\u001b[1;32m    319\u001b[0m         \u001b[38;5;124mf\u001b[39m\u001b[38;5;124m\"\u001b[39m\u001b[38;5;124mIPython won\u001b[39m\u001b[38;5;124m'\u001b[39m\u001b[38;5;124mt let you open fd=\u001b[39m\u001b[38;5;132;01m{\u001b[39;00mfile\u001b[38;5;132;01m}\u001b[39;00m\u001b[38;5;124m by default \u001b[39m\u001b[38;5;124m\"\u001b[39m\n\u001b[1;32m    320\u001b[0m         \u001b[38;5;124m\"\u001b[39m\u001b[38;5;124mas it is likely to crash IPython. If you know what you are doing, \u001b[39m\u001b[38;5;124m\"\u001b[39m\n\u001b[1;32m    321\u001b[0m         \u001b[38;5;124m\"\u001b[39m\u001b[38;5;124myou can use builtins\u001b[39m\u001b[38;5;124m'\u001b[39m\u001b[38;5;124m open.\u001b[39m\u001b[38;5;124m\"\u001b[39m\n\u001b[1;32m    322\u001b[0m     )\n\u001b[0;32m--> 324\u001b[0m \u001b[38;5;28;01mreturn\u001b[39;00m \u001b[43mio_open\u001b[49m\u001b[43m(\u001b[49m\u001b[43mfile\u001b[49m\u001b[43m,\u001b[49m\u001b[43m \u001b[49m\u001b[38;5;241;43m*\u001b[39;49m\u001b[43margs\u001b[49m\u001b[43m,\u001b[49m\u001b[43m \u001b[49m\u001b[38;5;241;43m*\u001b[39;49m\u001b[38;5;241;43m*\u001b[39;49m\u001b[43mkwargs\u001b[49m\u001b[43m)\u001b[49m\n",
      "\u001b[0;31mFileNotFoundError\u001b[0m: [Errno 2] No such file or directory: 'outputs/eyeriss_like_pe_1/timeloop_summary.yaml'"
     ]
    }
   ],
   "source": [
    "import yaml\n",
    "\n",
    "# Generate arch dirctory list\n",
    "arch_type = 'eyeriss_like'\n",
    "pe_list = [1,4,9,16,25,36,49,64,81,100,121,144,169,196,225,256,289,324,361,400]\n",
    "arch = []\n",
    "for pe in pe_list:\n",
    "    arch.append(arch_type+'_pe_'+str(pe))\n",
    "\n",
    "# Import data from yaml files\n",
    "total_cap_list = []\n",
    "total_area_list = []\n",
    "total_energy_list = []\n",
    "total_cycles_list = []\n",
    "for arch_name in arch:\n",
    "    yaml_path = 'outputs/'+arch_name+'/timeloop_summary.yaml'\n",
    "    with open(yaml_path, 'r') as f:\n",
    "        summary = yaml.safe_load(f)\n",
    "    total_cap_list.append(summary['dram_utilized_capacity'])\n",
    "    total_area_list.append(summary['total_chip_area_um2'])\n",
    "    total_energy_list.append(summary['total_energy_uJ'])\n",
    "    total_cycles_list.append(summary['total_cycles'])\n"
   ]
  },
  {
   "cell_type": "markdown",
   "id": "94701ba8-ff8c-4c17-9043-64f004377c51",
   "metadata": {},
   "source": [
    "### 2. Calculate Carbon Footprint using ACT"
   ]
  },
  {
   "cell_type": "code",
   "execution_count": 2,
   "id": "34816cc1-547f-4200-bf9d-5c0d9d6bcb09",
   "metadata": {},
   "outputs": [],
   "source": [
    "import json\n",
    "import sys\n",
    "import os\n",
    "\n",
    "# Import ACT libraries\n",
    "if \"/home/workspace/ACT-tutorial\" not in sys.path:\n",
    "    sys.path.append(\"/home/workspace/ACT-tutorial\")\n",
    "if not os.path.exists(\"/home/workspace/ACT-tutorial\"):\n",
    "    raise FileNotFoundError(f\"Provided path does not exist: /home/workspace/ACT-tutorial\")\n",
    "from dram_model import Fab_DRAM\n",
    "from hdd_model import Fab_HDD\n",
    "from ssd_model import Fab_SSD\n",
    "from logic_model  import Fab_Logic\n",
    "\n",
    "# Assume parameters\n",
    "# Refernce: https://www.extremetech.com/computing/data-center-ai-gpus-may-have-extremely-short-lifespans\n",
    "use_ci     = \"loc_usa\"\n",
    "Kr         = 0.15   # kg CO2\n",
    "T          = 1.8    # years\n",
    "LT         = 3      # years\n",
    "clock_freq = 200    # MHz\n",
    "\n",
    "# Initialize components\n",
    "processor = Fab_Logic(process_node=28, gpa=\"95\", fab_carbon_intensity=\"loc_taiwan\", use_carbon_intensity=\"loc_usa\",debug=False, fab_yield=0.8)\n",
    "DRAM      = Fab_DRAM(config=\"lpddr4\",fab_yield=0.8)\n",
    "N         = 2\n",
    "\n",
    "cf_package_list = []\n",
    "cf_processor_list = []\n",
    "cf_DRAM_list = []\n",
    "cf_embodied_list = []\n",
    "cf_dis_embodied_list = []\n",
    "cf_operational_list = []\n",
    "cf_final_list = []\n",
    "for total_cap, total_area, total_energy, total_cycles in zip(total_cap_list, total_area_list, total_energy_list, total_cycles_list):\n",
    "    # Input parameters to ACT\n",
    "    n_run     = (T *365*24*60*60) / ((1/(clock_freq*1000000))*total_cycles)\n",
    "    total_area_cm2 = total_area / 100000000\n",
    "    total_cap_GB = total_cap/1000000000\n",
    "    total_energy_kWh = total_energy / (3600*10**9)\n",
    "    processor.set_area(total_area_cm2)\n",
    "    DRAM.set_capacity(total_cap_GB)\n",
    "    \n",
    "    # Calculate Carbon Footprint (kg Co2)\n",
    "    cf_package_list.append(N * Kr)\n",
    "    cf_processor_list.append(processor.get_carbon() / 1000.)\n",
    "    cf_DRAM_list.append(DRAM.get_carbon() / 1000.)\n",
    "    cf_embodied_list.append(cf_package + cf_processor + cf_DRAM)\n",
    "    cf_dis_embodied_list.append(T/LT*cf_embodied)\n",
    "    cf_operational_list.append(processor.get_use_ci() * n_run * total_energy_kWh / 1000.)\n",
    "    cf_final_list.append(cf_operational + cf_dis_embodied)"
   ]
  },
  {
   "cell_type": "markdown",
   "id": "41475365-c67f-424d-889e-40b3af3473e2",
   "metadata": {},
   "source": [
    "### 3. Visualize the Result"
   ]
  },
  {
   "cell_type": "code",
   "execution_count": null,
   "id": "942a4577-4f2c-4df7-acd5-2af1cfd3ca61",
   "metadata": {},
   "outputs": [],
   "source": [
    "import matplotlib.pyplot as plt\n",
    "\n",
    "# Create a figure and a set of subplots\n",
    "fig, axes = plt.subplots(nrows=3, ncols=4, figsize=(8, 6))\n",
    "\n",
    "# Plot data on each subplot\n",
    "axes[0, 0].plot(pe_list, cf_final_list)\n",
    "axes[1, 0].plot(pe_list, cf_operational_list)\n",
    "axes[1, 1].plot(pe_list, cf_dis_embodied_list)\n",
    "axes[2, 0].plot(pe_list, cf_embodied_list)\n",
    "axes[2, 1].plot(pe_list, cf_DRAM_list)\n",
    "axes[2, 2].plot(pe_list, cf_processor_list)\n",
    "axes[2, 3].plot(pe_list, cf_package_list)\n",
    "\n",
    "# Add titles and labels\n",
    "axes[0, 0].set_title('Total Carbon Footprint')\n",
    "axes[1, 0].set_title('Operational CF')\n",
    "axes[1, 1].set_title('Discounted Embodied CF')\n",
    "axes[2, 0].set_title('Embodied CF')\n",
    "axes[2, 1].set_title('Embodied CF - DRAM')\n",
    "axes[2, 2].set_title('Embodied CF - Processor')\n",
    "axes[2, 3].set_title('Embodied CF - Package')\n",
    "fig.supxlabel(\"Number of PEs\")\n",
    "fig.supylabel(\"Carbon Footprint (kg CO2)\")\n",
    "\n",
    "# Adjust layout and show the plot\n",
    "plt.tight_layout()\n",
    "plt.show()"
   ]
  }
 ],
 "metadata": {
  "kernelspec": {
   "display_name": "Python 3 (ipykernel)",
   "language": "python",
   "name": "python3"
  },
  "language_info": {
   "codemirror_mode": {
    "name": "ipython",
    "version": 3
   },
   "file_extension": ".py",
   "mimetype": "text/x-python",
   "name": "python",
   "nbconvert_exporter": "python",
   "pygments_lexer": "ipython3",
   "version": "3.10.12"
  }
 },
 "nbformat": 4,
 "nbformat_minor": 5
}

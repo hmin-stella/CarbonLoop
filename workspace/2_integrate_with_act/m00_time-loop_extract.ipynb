{
 "cells": [
  {
   "cell_type": "code",
   "execution_count": 11,
   "id": "5176cc76-37bd-485f-a25f-7b3174c09c90",
   "metadata": {},
   "outputs": [],
   "source": [
    "import re\n",
    "import yaml\n",
    "import os\n",
    "\n",
    "def extract_dram_utilized_capacity(file_path):\n",
    "    with open(file_path, 'r') as f:\n",
    "        lines = f.readlines()\n",
    "    in_dram = False\n",
    "    current_section = None\n",
    "    intput = 0\n",
    "    output = 0\n",
    "    weight = 0\n",
    "    \n",
    "    for line in lines:\n",
    "        line = line.strip()\n",
    "\n",
    "        # Detect the start of DRAM level\n",
    "        if line.startswith(\"=== DRAM ===\"):\n",
    "            in_dram = True\n",
    "            continue\n",
    "\n",
    "        # Exit DRAM parsing if another level starts\n",
    "        if in_dram and line.startswith(\"===\") and not line.startswith(\"=== DRAM ===\"):\n",
    "            break\n",
    "\n",
    "        # Identify current section\n",
    "        if line.startswith(\"Inputs:\"):\n",
    "            current_section = 'input'\n",
    "        elif line.startswith(\"Outputs:\"):\n",
    "            current_section = 'output'\n",
    "        elif line.startswith(\"Weights:\"):\n",
    "            current_section = 'weight'\n",
    "\n",
    "        # Extract Utilized capacity\n",
    "        if in_dram and \"Utilized capacity\" in line:\n",
    "            match = re.search(r'Utilized capacity\\s+:\\s+([0-9.]+)', line)\n",
    "            if match and current_section:\n",
    "                value = float(match.group(1))\n",
    "                if current_section == 'input':\n",
    "                    intput = value\n",
    "                elif current_section == 'output':\n",
    "                    output = value\n",
    "                elif current_section == 'weight':\n",
    "                    weight = value\n",
    "                \n",
    "    return [intput, output, weight]"
   ]
  },
  {
   "cell_type": "code",
   "execution_count": 12,
   "id": "608e3eab-41c7-4e33-b0f5-ea0d5ee8038c",
   "metadata": {},
   "outputs": [],
   "source": [
    "def extract_total_chip_area(file_path):\n",
    "    with open(file_path, 'r') as f:\n",
    "        lines = f.readlines()\n",
    "    total_area = 0.0\n",
    "    for line in lines:\n",
    "        line = line.strip()\n",
    "        if line.startswith(\"Area\") and \"um^2\" in line:\n",
    "            match = re.search(r'Area\\s+\\(total\\)?\\s*:\\s*([0-9.]+)', line)\n",
    "            if not match:\n",
    "                match = re.search(r'Area\\s*:\\s*([0-9.]+)', line)\n",
    "            if match:\n",
    "                total_area += float(match.group(1))\n",
    "    return total_area"
   ]
  },
  {
   "cell_type": "code",
   "execution_count": 13,
   "id": "606e4d95-71fb-4e06-aabd-86e87967365c",
   "metadata": {},
   "outputs": [],
   "source": [
    "def extract_total_energy(file_path):\n",
    "    with open(file_path, 'r') as f:\n",
    "        lines = f.readlines()\n",
    "    for line in lines:\n",
    "        line = line.strip()\n",
    "        if line.startswith(\"Energy:\") and \"uJ\" in line:\n",
    "            match = re.search(r'Energy:\\s+([0-9.]+)\\s*uJ', line)\n",
    "            if match:\n",
    "                return float(match.group(1))\n",
    "    return None"
   ]
  },
  {
   "cell_type": "code",
   "execution_count": 14,
   "id": "9ff54743-754d-445e-935e-517a9c2c9310",
   "metadata": {},
   "outputs": [],
   "source": [
    "def extract_total_cycles(file_path):\n",
    "    with open(file_path, 'r') as f:\n",
    "        for line in f:\n",
    "            line = line.strip()\n",
    "            if line.startswith(\"Cycles:\"):\n",
    "                match = re.search(r\"Cycles:\\s+([0-9]+)\", line)\n",
    "                if match:\n",
    "                    return int(match.group(1))\n",
    "    return None"
   ]
  },
  {
   "cell_type": "code",
   "execution_count": 15,
   "id": "1ee4eaa6-6184-42bf-b995-c04f36f085f7",
   "metadata": {},
   "outputs": [],
   "source": [
    "def search_directories(path):\n",
    "    directories = []\n",
    "    for dirpath, dirnames, filenames in os.walk(path):\n",
    "        directories.append(dirpath)\n",
    "    return directories"
   ]
  },
  {
   "cell_type": "code",
   "execution_count": null,
   "id": "7f6994ee-d7a4-419f-8812-fadf15f65a2b",
   "metadata": {},
   "outputs": [],
   "source": [
    "def save_to_yaml(output_path, dram_caps, area, energy, cycles):\n",
    "    result = {\n",
    "        'dram_utilized_capacity': dram_caps,\n",
    "        'total_chip_area_um2': area,\n",
    "        'total_energy_uJ': energy,\n",
    "        'total_cycles': cycles\n",
    "    }\n",
    "\n",
    "    with open(output_path, 'w') as yaml_file:\n",
    "        yaml.dump(result, yaml_file, default_flow_style=False)"
   ]
  },
  {
   "cell_type": "code",
   "execution_count": 16,
   "id": "b67a4052-7906-4135-9b94-a9a9db578ad7",
   "metadata": {},
   "outputs": [
    {
     "ename": "FileNotFoundError",
     "evalue": "[Errno 2] No such file or directory: '/home/workspace/run_timeloop/outputs/eyeriss_like-067/timeloop-mapper.stats.txt'",
     "output_type": "error",
     "traceback": [
      "\u001b[0;31m---------------------------------------------------------------------------\u001b[0m",
      "\u001b[0;31mFileNotFoundError\u001b[0m                         Traceback (most recent call last)",
      "Cell \u001b[0;32mIn[16], line 29\u001b[0m\n\u001b[1;32m     26\u001b[0m \u001b[38;5;28;01mif\u001b[39;00m \u001b[38;5;124m'\u001b[39m\u001b[38;5;124meyeriss_like\u001b[39m\u001b[38;5;124m'\u001b[39m \u001b[38;5;129;01min\u001b[39;00m layer_dir\u001b[38;5;241m.\u001b[39msplit(\u001b[38;5;124m'\u001b[39m\u001b[38;5;124m/\u001b[39m\u001b[38;5;124m'\u001b[39m)[\u001b[38;5;241m-\u001b[39m\u001b[38;5;241m1\u001b[39m]:\n\u001b[1;32m     27\u001b[0m     file_path \u001b[38;5;241m=\u001b[39m os\u001b[38;5;241m.\u001b[39mpath\u001b[38;5;241m.\u001b[39mjoin(layer_dir, tl_file_name)\n\u001b[0;32m---> 29\u001b[0m     dram_caps \u001b[38;5;241m=\u001b[39m \u001b[43mextract_dram_utilized_capacity\u001b[49m\u001b[43m(\u001b[49m\u001b[43mfile_path\u001b[49m\u001b[43m)\u001b[49m\n\u001b[1;32m     30\u001b[0m     dram_input_caps\u001b[38;5;241m.\u001b[39mappend(dram_caps[\u001b[38;5;241m0\u001b[39m])\n\u001b[1;32m     31\u001b[0m     dram_output_caps\u001b[38;5;241m.\u001b[39mappend(dram_caps[\u001b[38;5;241m1\u001b[39m])\n",
      "Cell \u001b[0;32mIn[11], line 6\u001b[0m, in \u001b[0;36mextract_dram_utilized_capacity\u001b[0;34m(file_path)\u001b[0m\n\u001b[1;32m      5\u001b[0m \u001b[38;5;28;01mdef\u001b[39;00m\u001b[38;5;250m \u001b[39m\u001b[38;5;21mextract_dram_utilized_capacity\u001b[39m(file_path):\n\u001b[0;32m----> 6\u001b[0m     \u001b[38;5;28;01mwith\u001b[39;00m \u001b[38;5;28;43mopen\u001b[39;49m\u001b[43m(\u001b[49m\u001b[43mfile_path\u001b[49m\u001b[43m,\u001b[49m\u001b[43m \u001b[49m\u001b[38;5;124;43m'\u001b[39;49m\u001b[38;5;124;43mr\u001b[39;49m\u001b[38;5;124;43m'\u001b[39;49m\u001b[43m)\u001b[49m \u001b[38;5;28;01mas\u001b[39;00m f:\n\u001b[1;32m      7\u001b[0m         lines \u001b[38;5;241m=\u001b[39m f\u001b[38;5;241m.\u001b[39mreadlines()\n\u001b[1;32m      8\u001b[0m     in_dram \u001b[38;5;241m=\u001b[39m \u001b[38;5;28;01mFalse\u001b[39;00m\n",
      "File \u001b[0;32m/usr/local/lib/python3.10/dist-packages/IPython/core/interactiveshell.py:324\u001b[0m, in \u001b[0;36m_modified_open\u001b[0;34m(file, *args, **kwargs)\u001b[0m\n\u001b[1;32m    317\u001b[0m \u001b[38;5;28;01mif\u001b[39;00m file \u001b[38;5;129;01min\u001b[39;00m {\u001b[38;5;241m0\u001b[39m, \u001b[38;5;241m1\u001b[39m, \u001b[38;5;241m2\u001b[39m}:\n\u001b[1;32m    318\u001b[0m     \u001b[38;5;28;01mraise\u001b[39;00m \u001b[38;5;167;01mValueError\u001b[39;00m(\n\u001b[1;32m    319\u001b[0m         \u001b[38;5;124mf\u001b[39m\u001b[38;5;124m\"\u001b[39m\u001b[38;5;124mIPython won\u001b[39m\u001b[38;5;124m'\u001b[39m\u001b[38;5;124mt let you open fd=\u001b[39m\u001b[38;5;132;01m{\u001b[39;00mfile\u001b[38;5;132;01m}\u001b[39;00m\u001b[38;5;124m by default \u001b[39m\u001b[38;5;124m\"\u001b[39m\n\u001b[1;32m    320\u001b[0m         \u001b[38;5;124m\"\u001b[39m\u001b[38;5;124mas it is likely to crash IPython. If you know what you are doing, \u001b[39m\u001b[38;5;124m\"\u001b[39m\n\u001b[1;32m    321\u001b[0m         \u001b[38;5;124m\"\u001b[39m\u001b[38;5;124myou can use builtins\u001b[39m\u001b[38;5;124m'\u001b[39m\u001b[38;5;124m open.\u001b[39m\u001b[38;5;124m\"\u001b[39m\n\u001b[1;32m    322\u001b[0m     )\n\u001b[0;32m--> 324\u001b[0m \u001b[38;5;28;01mreturn\u001b[39;00m \u001b[43mio_open\u001b[49m\u001b[43m(\u001b[49m\u001b[43mfile\u001b[49m\u001b[43m,\u001b[49m\u001b[43m \u001b[49m\u001b[38;5;241;43m*\u001b[39;49m\u001b[43margs\u001b[49m\u001b[43m,\u001b[49m\u001b[43m \u001b[49m\u001b[38;5;241;43m*\u001b[39;49m\u001b[38;5;241;43m*\u001b[39;49m\u001b[43mkwargs\u001b[49m\u001b[43m)\u001b[49m\n",
      "\u001b[0;31mFileNotFoundError\u001b[0m: [Errno 2] No such file or directory: '/home/workspace/run_timeloop/outputs/eyeriss_like-067/timeloop-mapper.stats.txt'"
     ]
    }
   ],
   "source": [
    "if __name__ == '__main__':\n",
    "    tl_output_path = '/home/workspace/run_timeloop/outputs/'\n",
    "    tl_file_name = 'timeloop-mapper.stats.txt'\n",
    "    output_yaml = 'timeloop_summary.yaml'\n",
    "    \n",
    "    layer_dirs = search_directories(tl_output_path)\n",
    "    dram_input_caps = []\n",
    "    dram_output_caps = []\n",
    "    dram_weight_caps = []\n",
    "    chip_area = []\n",
    "    energy = []\n",
    "    cycles = []\n",
    "    \n",
    "    for layer_dir in layer_dirs:\n",
    "        if 'eyeriss_like' in layer_dir.split('/')[-1]:\n",
    "            file_path = os.path.join(layer_dir, tl_file_name)\n",
    "            \n",
    "            dram_caps = extract_dram_utilized_capacity(file_path)\n",
    "            dram_input_caps.append(dram_caps[0])\n",
    "            dram_output_caps.append(dram_caps[1])\n",
    "            dram_weight_caps.append(dram_caps[2])\n",
    "            chip_area.append(extract_total_chip_area(file_path))\n",
    "            energy.append(extract_total_energy(file_path))\n",
    "            cycles.append(extract_total_cycles(file_path))\n",
    "    \n",
    "    total_dram_caps = sum(dram_input_caps) + sum(dram_output_caps) + sum(dram_weight_caps)\n",
    "    total_chip_area = sum(chip_area)\n",
    "    total_energy = sum(energy)\n",
    "    total_cycles = sum(cycles)\n",
    "\n",
    "    \n",
    "    print(\"DRAM Specifications:\")\n",
    "    print(f\"Total Capacity  : {total_dram_caps}\")\n",
    "    print(f\"Total Chip Area : {total_chip_area:.2f} um^2\")\n",
    "    print(f\"Total Energy    : {total_energy:.2f} uJ\")\n",
    "    print(f\"Total Cycles    : {total_cycles}\")\n",
    "\n",
    "    save_to_yaml(output_yaml, total_dram_caps, total_chip_area, total_energy, total_cycles)\n",
    "    print(f\"\\nYAML saved to: {output_yaml}\")"
   ]
  },
  {
   "cell_type": "code",
   "execution_count": 17,
   "id": "ecf3fc23-1cfe-42fe-abde-3fa83c806868",
   "metadata": {},
   "outputs": [
    {
     "name": "stdout",
     "output_type": "stream",
     "text": [
      "DRAM Specifications:\n",
      "Total Capacity  : 49997824.0\n",
      "Total Chip Area : 16900639.84 um^2\n",
      "Total Energy    : 72489.47 uJ\n",
      "Total Cycles    : 134258688\n",
      "\n",
      "YAML saved to: timeloop_summary.yaml\n"
     ]
    }
   ],
   "source": [
    "\n",
    "total_dram_caps = sum(dram_input_caps) + sum(dram_output_caps) + sum(dram_weight_caps)\n",
    "total_chip_area = sum(chip_area)\n",
    "total_energy = sum(energy)\n",
    "total_cycles = sum(cycles)\n",
    "\n",
    "\n",
    "print(\"DRAM Specifications:\")\n",
    "print(f\"Total Capacity  : {total_dram_caps}\")\n",
    "print(f\"Total Chip Area : {total_chip_area:.2f} um^2\")\n",
    "print(f\"Total Energy    : {total_energy:.2f} uJ\")\n",
    "print(f\"Total Cycles    : {total_cycles}\")\n",
    "\n",
    "save_to_yaml(output_yaml, total_dram_caps, total_chip_area, total_energy, total_cycles)\n",
    "print(f\"\\nYAML saved to: {output_yaml}\")"
   ]
  }
 ],
 "metadata": {
  "kernelspec": {
   "display_name": "Python 3 (ipykernel)",
   "language": "python",
   "name": "python3"
  },
  "language_info": {
   "codemirror_mode": {
    "name": "ipython",
    "version": 3
   },
   "file_extension": ".py",
   "mimetype": "text/x-python",
   "name": "python",
   "nbconvert_exporter": "python",
   "pygments_lexer": "ipython3",
   "version": "3.10.12"
  }
 },
 "nbformat": 4,
 "nbformat_minor": 5
}
